{
  "nbformat": 4,
  "nbformat_minor": 0,
  "metadata": {
    "accelerator": "GPU",
    "colab": {
      "name": "geostorm-competition.ipynb",
      "provenance": []
    },
    "kernelspec": {
      "display_name": "Python 3",
      "name": "python3"
    }
  },
  "cells": [
    {
      "cell_type": "code",
      "metadata": {
        "id": "ZsJrLzH2TiXf"
      },
      "source": [
        "%tensorflow_version 2.x"
      ],
      "execution_count": null,
      "outputs": []
    },
    {
      "cell_type": "code",
      "metadata": {
        "colab": {
          "base_uri": "https://localhost:8080/",
          "height": 344
        },
        "id": "_ctgZ4BcoJvi",
        "outputId": "de4d2ea1-4c6e-47ad-c092-af85b190c7ef"
      },
      "source": [
        "!pip install scikit-learn==0.23.2"
      ],
      "execution_count": 41,
      "outputs": [
        {
          "output_type": "stream",
          "text": [
            "Collecting scikit-learn==0.23.2\n",
            "\u001b[?25l  Downloading https://files.pythonhosted.org/packages/5c/a1/273def87037a7fb010512bbc5901c31cfddfca8080bc63b42b26e3cc55b3/scikit_learn-0.23.2-cp36-cp36m-manylinux1_x86_64.whl (6.8MB)\n",
            "\u001b[K     |████████████████████████████████| 6.8MB 17.1MB/s \n",
            "\u001b[?25hRequirement already satisfied: scipy>=0.19.1 in /usr/local/lib/python3.6/dist-packages (from scikit-learn==0.23.2) (1.4.1)\n",
            "Collecting threadpoolctl>=2.0.0\n",
            "  Downloading https://files.pythonhosted.org/packages/f7/12/ec3f2e203afa394a149911729357aa48affc59c20e2c1c8297a60f33f133/threadpoolctl-2.1.0-py3-none-any.whl\n",
            "Requirement already satisfied: joblib>=0.11 in /usr/local/lib/python3.6/dist-packages (from scikit-learn==0.23.2) (1.0.0)\n",
            "Requirement already satisfied: numpy>=1.13.3 in /usr/local/lib/python3.6/dist-packages (from scikit-learn==0.23.2) (1.19.4)\n",
            "Installing collected packages: threadpoolctl, scikit-learn\n",
            "  Found existing installation: scikit-learn 0.22.2.post1\n",
            "    Uninstalling scikit-learn-0.22.2.post1:\n",
            "      Successfully uninstalled scikit-learn-0.22.2.post1\n",
            "Successfully installed scikit-learn-0.23.2 threadpoolctl-2.1.0\n"
          ],
          "name": "stdout"
        },
        {
          "output_type": "display_data",
          "data": {
            "application/vnd.colab-display-data+json": {
              "pip_warning": {
                "packages": [
                  "sklearn"
                ]
              }
            }
          },
          "metadata": {
            "tags": []
          }
        }
      ]
    },
    {
      "cell_type": "code",
      "metadata": {
        "colab": {
          "base_uri": "https://localhost:8080/"
        },
        "id": "6r3YEtxEoKNC",
        "outputId": "c81f27a2-7917-4d74-886d-d35434198f0c"
      },
      "source": [
        "import sklearn\n",
        "print(sklearn.__version__)"
      ],
      "execution_count": 1,
      "outputs": [
        {
          "output_type": "stream",
          "text": [
            "0.23.2\n"
          ],
          "name": "stdout"
        }
      ]
    },
    {
      "cell_type": "code",
      "metadata": {
        "colab": {
          "base_uri": "https://localhost:8080/"
        },
        "id": "G5KTONGpTo8Q",
        "outputId": "f3bb8d74-4337-4862-c521-ec4a02092272"
      },
      "source": [
        "import tensorflow\n",
        "print(tensorflow.__version__)"
      ],
      "execution_count": 2,
      "outputs": [
        {
          "output_type": "stream",
          "text": [
            "2.4.0\n"
          ],
          "name": "stdout"
        }
      ]
    },
    {
      "cell_type": "code",
      "metadata": {
        "id": "vwtVK3pyO0D0"
      },
      "source": [
        "from pathlib import Path\n",
        "\n",
        "import matplotlib.pyplot as plt\n",
        "import numpy as np\n",
        "import pandas as pd\n",
        "\n",
        "# %load_ext nb_black\n",
        "%matplotlib inline"
      ],
      "execution_count": 3,
      "outputs": []
    },
    {
      "cell_type": "code",
      "metadata": {
        "colab": {
          "base_uri": "https://localhost:8080/"
        },
        "id": "uW0_d_YnPMDs",
        "outputId": "3cc7104d-b652-4bea-bb10-3d2baff6b738"
      },
      "source": [
        "from google.colab import drive\n",
        "drive.mount('/content/drive')"
      ],
      "execution_count": 4,
      "outputs": [
        {
          "output_type": "stream",
          "text": [
            "Drive already mounted at /content/drive; to attempt to forcibly remount, call drive.mount(\"/content/drive\", force_remount=True).\n"
          ],
          "name": "stdout"
        }
      ]
    },
    {
      "cell_type": "code",
      "metadata": {
        "id": "jzpO-9YaPPDr"
      },
      "source": [
        "DATA_PATH = Path(\"/content/drive/MyDrive/Geostorm Competition Data\")"
      ],
      "execution_count": 5,
      "outputs": []
    },
    {
      "cell_type": "code",
      "metadata": {
        "id": "HCRQRGG0TLrO"
      },
      "source": [
        "dst = pd.read_csv(DATA_PATH / \"dst_labels.csv\")\n",
        "dst.timedelta = pd.to_timedelta(dst.timedelta)\n",
        "dst.set_index([\"period\", \"timedelta\"], inplace=True)"
      ],
      "execution_count": 6,
      "outputs": []
    },
    {
      "cell_type": "code",
      "metadata": {
        "id": "Dv7pkRspPQJb"
      },
      "source": [
        "sunspots = pd.read_csv(DATA_PATH / \"sunspots.csv\")\n",
        "sunspots.timedelta = pd.to_timedelta(sunspots.timedelta)\n",
        "sunspots.set_index([\"period\", \"timedelta\"], inplace=True)"
      ],
      "execution_count": 7,
      "outputs": []
    },
    {
      "cell_type": "code",
      "metadata": {
        "id": "o7uzkLqtS2Ii"
      },
      "source": [
        "solar_wind = pd.read_csv(DATA_PATH / \"solar_wind.csv\")\n",
        "solar_wind.timedelta = pd.to_timedelta(solar_wind.timedelta)\n",
        "solar_wind.set_index([\"period\", \"timedelta\"], inplace=True)"
      ],
      "execution_count": 8,
      "outputs": []
    },
    {
      "cell_type": "code",
      "metadata": {
        "id": "GC3GR5qtS8WR"
      },
      "source": [
        "from numpy.random import seed\n",
        "from tensorflow.random import set_seed\n",
        "\n",
        "seed(2020)\n",
        "set_seed(2021)"
      ],
      "execution_count": 9,
      "outputs": []
    },
    {
      "cell_type": "code",
      "metadata": {
        "id": "hK5n4CtmTReF"
      },
      "source": [
        "from sklearn.preprocessing import StandardScaler\n",
        "\n",
        "# subset of solar wind features to use for modeling\n",
        "SOLAR_WIND_FEATURES = [\n",
        "    \"bt\",\n",
        "    \"temperature\",\n",
        "    \"bx_gse\",\n",
        "    \"by_gse\",\n",
        "    \"bz_gse\",\n",
        "    \"speed\",\n",
        "    \"density\",\n",
        "]\n",
        "\n",
        "# all of the features we'll use, including sunspot numbers\n",
        "XCOLS = (\n",
        "    [col + \"_mean\" for col in SOLAR_WIND_FEATURES]\n",
        "    + [col + \"_std\" for col in SOLAR_WIND_FEATURES]\n",
        "    + [\"smoothed_ssn\"]\n",
        ")\n",
        "\n",
        "def impute_features(feature_df):\n",
        "    \"\"\"Imputes data using the following methods:\n",
        "    - `smoothed_ssn`: forward fill\n",
        "    - `solar_wind`: interpolation\n",
        "    \"\"\"\n",
        "    # forward fill sunspot data for the rest of the month\n",
        "    feature_df.smoothed_ssn = feature_df.smoothed_ssn.fillna(method=\"ffill\")\n",
        "    # interpolate between missing solar wind values\n",
        "    feature_df = feature_df.interpolate()\n",
        "    return feature_df\n",
        "\n",
        "def aggregate_hourly(feature_df, aggs=[\"mean\", \"std\"]):\n",
        "    \"\"\"Aggregates features to the floor of each hour using mean and std\n",
        "    e.g. All values from \"11:00:00\" to \"11:59:00\" will be aggregate to \"11:00:00\"\n",
        "    \"\"\"\n",
        "    agged = feature_df.groupby(\n",
        "        [\"period\", feature_df.index.get_level_values(1).floor(\"H\")]\n",
        "    ).agg(aggs)\n",
        "    # flatten hierarchical column index\n",
        "    agged.columns = [\"_\".join(x) for x in agged.columns]\n",
        "    return agged\n",
        "\n",
        "def preprocess_features(solar_wind, sunspots, scaler=None, subset=None):\n",
        "    \"\"\"\n",
        "    Preprocessing steps:\n",
        "        - Subset the data\n",
        "        - Aggregate Hourly\n",
        "        - Join solar wind and sunspot data\n",
        "        - Scale using standard scaler\n",
        "        - Impute missing values\n",
        "    \"\"\"\n",
        "    # select features we want to use\n",
        "    if subset:\n",
        "        solar_wind = solar_wind[subset]\n",
        "        \n",
        "    # aggregate solar wind data and join with sunspots\n",
        "    hourly_features = aggregate_hourly(solar_wind).join(sunspots)\n",
        "    \n",
        "    # subtract mean and divide by standard deviation\n",
        "    if scaler is None:\n",
        "        scaler = StandardScaler()\n",
        "        scaler.fit(hourly_features)\n",
        "    \n",
        "    normalized = pd.DataFrame(\n",
        "        scaler.transform(hourly_features),\n",
        "        index=hourly_features.index,\n",
        "        columns=hourly_features.columns,\n",
        "    )\n",
        "    \n",
        "    # impute missing values\n",
        "    imputed = impute_features(normalized)\n",
        "    \n",
        "    # we want to return the scaler object as well to use later during prediction\n",
        "    return imputed, scaler"
      ],
      "execution_count": 10,
      "outputs": []
    },
    {
      "cell_type": "code",
      "metadata": {
        "colab": {
          "base_uri": "https://localhost:8080/",
          "height": 357
        },
        "id": "YLDz47VzUcnI",
        "outputId": "c424000e-728b-4374-dbfd-7d9cbf157851"
      },
      "source": [
        "features, scaler = preprocess_features(solar_wind, sunspots, subset=SOLAR_WIND_FEATURES)\n",
        "print(features.shape)\n",
        "features.head()"
      ],
      "execution_count": 11,
      "outputs": [
        {
          "output_type": "stream",
          "text": [
            "(139872, 15)\n"
          ],
          "name": "stdout"
        },
        {
          "output_type": "execute_result",
          "data": {
            "text/html": [
              "<div>\n",
              "<style scoped>\n",
              "    .dataframe tbody tr th:only-of-type {\n",
              "        vertical-align: middle;\n",
              "    }\n",
              "\n",
              "    .dataframe tbody tr th {\n",
              "        vertical-align: top;\n",
              "    }\n",
              "\n",
              "    .dataframe thead th {\n",
              "        text-align: right;\n",
              "    }\n",
              "</style>\n",
              "<table border=\"1\" class=\"dataframe\">\n",
              "  <thead>\n",
              "    <tr style=\"text-align: right;\">\n",
              "      <th></th>\n",
              "      <th></th>\n",
              "      <th>bt_mean</th>\n",
              "      <th>bt_std</th>\n",
              "      <th>temperature_mean</th>\n",
              "      <th>temperature_std</th>\n",
              "      <th>bx_gse_mean</th>\n",
              "      <th>bx_gse_std</th>\n",
              "      <th>by_gse_mean</th>\n",
              "      <th>by_gse_std</th>\n",
              "      <th>bz_gse_mean</th>\n",
              "      <th>bz_gse_std</th>\n",
              "      <th>speed_mean</th>\n",
              "      <th>speed_std</th>\n",
              "      <th>density_mean</th>\n",
              "      <th>density_std</th>\n",
              "      <th>smoothed_ssn</th>\n",
              "    </tr>\n",
              "    <tr>\n",
              "      <th>period</th>\n",
              "      <th>timedelta</th>\n",
              "      <th></th>\n",
              "      <th></th>\n",
              "      <th></th>\n",
              "      <th></th>\n",
              "      <th></th>\n",
              "      <th></th>\n",
              "      <th></th>\n",
              "      <th></th>\n",
              "      <th></th>\n",
              "      <th></th>\n",
              "      <th></th>\n",
              "      <th></th>\n",
              "      <th></th>\n",
              "      <th></th>\n",
              "      <th></th>\n",
              "    </tr>\n",
              "  </thead>\n",
              "  <tbody>\n",
              "    <tr>\n",
              "      <th rowspan=\"5\" valign=\"top\">train_a</th>\n",
              "      <th>0 days 00:00:00</th>\n",
              "      <td>0.499705</td>\n",
              "      <td>2.443614</td>\n",
              "      <td>-0.375267</td>\n",
              "      <td>0.383941</td>\n",
              "      <td>-1.599207</td>\n",
              "      <td>-0.381502</td>\n",
              "      <td>0.419516</td>\n",
              "      <td>0.031658</td>\n",
              "      <td>0.300358</td>\n",
              "      <td>-0.651645</td>\n",
              "      <td>-0.738546</td>\n",
              "      <td>0.862524</td>\n",
              "      <td>-0.775827</td>\n",
              "      <td>-0.205724</td>\n",
              "      <td>0.139444</td>\n",
              "    </tr>\n",
              "    <tr>\n",
              "      <th>0 days 01:00:00</th>\n",
              "      <td>0.547177</td>\n",
              "      <td>-0.224580</td>\n",
              "      <td>-0.479430</td>\n",
              "      <td>0.953178</td>\n",
              "      <td>-1.757995</td>\n",
              "      <td>-0.867747</td>\n",
              "      <td>0.179257</td>\n",
              "      <td>-0.272971</td>\n",
              "      <td>0.446103</td>\n",
              "      <td>-0.517913</td>\n",
              "      <td>-0.986904</td>\n",
              "      <td>0.995063</td>\n",
              "      <td>-0.861692</td>\n",
              "      <td>-0.058215</td>\n",
              "      <td>0.139444</td>\n",
              "    </tr>\n",
              "    <tr>\n",
              "      <th>0 days 02:00:00</th>\n",
              "      <td>0.739905</td>\n",
              "      <td>-0.770240</td>\n",
              "      <td>-0.574831</td>\n",
              "      <td>-0.192518</td>\n",
              "      <td>-1.912116</td>\n",
              "      <td>-1.114317</td>\n",
              "      <td>0.183266</td>\n",
              "      <td>-0.822786</td>\n",
              "      <td>0.770174</td>\n",
              "      <td>-0.876490</td>\n",
              "      <td>-1.013548</td>\n",
              "      <td>0.554085</td>\n",
              "      <td>-0.846222</td>\n",
              "      <td>-0.220012</td>\n",
              "      <td>0.139444</td>\n",
              "    </tr>\n",
              "    <tr>\n",
              "      <th>0 days 03:00:00</th>\n",
              "      <td>0.699098</td>\n",
              "      <td>-0.278783</td>\n",
              "      <td>-0.324709</td>\n",
              "      <td>0.325491</td>\n",
              "      <td>-1.809045</td>\n",
              "      <td>-0.783042</td>\n",
              "      <td>-0.378111</td>\n",
              "      <td>0.341156</td>\n",
              "      <td>0.621194</td>\n",
              "      <td>-0.290211</td>\n",
              "      <td>-0.826469</td>\n",
              "      <td>-0.211185</td>\n",
              "      <td>-0.404306</td>\n",
              "      <td>0.218373</td>\n",
              "      <td>0.139444</td>\n",
              "    </tr>\n",
              "    <tr>\n",
              "      <th>0 days 04:00:00</th>\n",
              "      <td>0.223933</td>\n",
              "      <td>-0.225168</td>\n",
              "      <td>-0.313432</td>\n",
              "      <td>0.201600</td>\n",
              "      <td>-1.338802</td>\n",
              "      <td>-0.484910</td>\n",
              "      <td>0.072745</td>\n",
              "      <td>1.023019</td>\n",
              "      <td>0.467629</td>\n",
              "      <td>-0.478080</td>\n",
              "      <td>-0.601238</td>\n",
              "      <td>1.016033</td>\n",
              "      <td>-0.371487</td>\n",
              "      <td>0.097253</td>\n",
              "      <td>0.139444</td>\n",
              "    </tr>\n",
              "  </tbody>\n",
              "</table>\n",
              "</div>"
            ],
            "text/plain": [
              "                          bt_mean    bt_std  ...  density_std  smoothed_ssn\n",
              "period  timedelta                            ...                           \n",
              "train_a 0 days 00:00:00  0.499705  2.443614  ...    -0.205724      0.139444\n",
              "        0 days 01:00:00  0.547177 -0.224580  ...    -0.058215      0.139444\n",
              "        0 days 02:00:00  0.739905 -0.770240  ...    -0.220012      0.139444\n",
              "        0 days 03:00:00  0.699098 -0.278783  ...     0.218373      0.139444\n",
              "        0 days 04:00:00  0.223933 -0.225168  ...     0.097253      0.139444\n",
              "\n",
              "[5 rows x 15 columns]"
            ]
          },
          "metadata": {
            "tags": []
          },
          "execution_count": 11
        }
      ]
    },
    {
      "cell_type": "code",
      "metadata": {
        "id": "DWG6H3GKUlSW"
      },
      "source": [
        "# check to make sure missing values are filled\n",
        "assert (features.isna().sum() == 0).all()"
      ],
      "execution_count": 14,
      "outputs": []
    },
    {
      "cell_type": "code",
      "metadata": {
        "colab": {
          "base_uri": "https://localhost:8080/",
          "height": 235
        },
        "id": "XVdDpFjUUnXQ",
        "outputId": "b5c44c1e-2985-4839-8364-9347b0a88456"
      },
      "source": [
        "YCOLS = [\"t0\", \"t1\"]\n",
        "\n",
        "def process_labels(dst):\n",
        "    y = dst.copy()\n",
        "    y[\"t1\"] = y.groupby(\"period\").dst.shift(-1)\n",
        "    y.columns = YCOLS\n",
        "    return y\n",
        "\n",
        "labels = process_labels(dst)\n",
        "labels.head()"
      ],
      "execution_count": 15,
      "outputs": [
        {
          "output_type": "execute_result",
          "data": {
            "text/html": [
              "<div>\n",
              "<style scoped>\n",
              "    .dataframe tbody tr th:only-of-type {\n",
              "        vertical-align: middle;\n",
              "    }\n",
              "\n",
              "    .dataframe tbody tr th {\n",
              "        vertical-align: top;\n",
              "    }\n",
              "\n",
              "    .dataframe thead th {\n",
              "        text-align: right;\n",
              "    }\n",
              "</style>\n",
              "<table border=\"1\" class=\"dataframe\">\n",
              "  <thead>\n",
              "    <tr style=\"text-align: right;\">\n",
              "      <th></th>\n",
              "      <th></th>\n",
              "      <th>t0</th>\n",
              "      <th>t1</th>\n",
              "    </tr>\n",
              "    <tr>\n",
              "      <th>period</th>\n",
              "      <th>timedelta</th>\n",
              "      <th></th>\n",
              "      <th></th>\n",
              "    </tr>\n",
              "  </thead>\n",
              "  <tbody>\n",
              "    <tr>\n",
              "      <th rowspan=\"5\" valign=\"top\">train_a</th>\n",
              "      <th>0 days 00:00:00</th>\n",
              "      <td>-7</td>\n",
              "      <td>-10.0</td>\n",
              "    </tr>\n",
              "    <tr>\n",
              "      <th>0 days 01:00:00</th>\n",
              "      <td>-10</td>\n",
              "      <td>-10.0</td>\n",
              "    </tr>\n",
              "    <tr>\n",
              "      <th>0 days 02:00:00</th>\n",
              "      <td>-10</td>\n",
              "      <td>-6.0</td>\n",
              "    </tr>\n",
              "    <tr>\n",
              "      <th>0 days 03:00:00</th>\n",
              "      <td>-6</td>\n",
              "      <td>-2.0</td>\n",
              "    </tr>\n",
              "    <tr>\n",
              "      <th>0 days 04:00:00</th>\n",
              "      <td>-2</td>\n",
              "      <td>3.0</td>\n",
              "    </tr>\n",
              "  </tbody>\n",
              "</table>\n",
              "</div>"
            ],
            "text/plain": [
              "                         t0    t1\n",
              "period  timedelta                \n",
              "train_a 0 days 00:00:00  -7 -10.0\n",
              "        0 days 01:00:00 -10 -10.0\n",
              "        0 days 02:00:00 -10  -6.0\n",
              "        0 days 03:00:00  -6  -2.0\n",
              "        0 days 04:00:00  -2   3.0"
            ]
          },
          "metadata": {
            "tags": []
          },
          "execution_count": 15
        }
      ]
    },
    {
      "cell_type": "code",
      "metadata": {
        "colab": {
          "base_uri": "https://localhost:8080/",
          "height": 340
        },
        "id": "ZTmveiLqUoVO",
        "outputId": "5585ffe4-cb2e-472c-8a6e-19d4591f7d66"
      },
      "source": [
        "data = labels.join(features)\n",
        "data.head()"
      ],
      "execution_count": 16,
      "outputs": [
        {
          "output_type": "execute_result",
          "data": {
            "text/html": [
              "<div>\n",
              "<style scoped>\n",
              "    .dataframe tbody tr th:only-of-type {\n",
              "        vertical-align: middle;\n",
              "    }\n",
              "\n",
              "    .dataframe tbody tr th {\n",
              "        vertical-align: top;\n",
              "    }\n",
              "\n",
              "    .dataframe thead th {\n",
              "        text-align: right;\n",
              "    }\n",
              "</style>\n",
              "<table border=\"1\" class=\"dataframe\">\n",
              "  <thead>\n",
              "    <tr style=\"text-align: right;\">\n",
              "      <th></th>\n",
              "      <th></th>\n",
              "      <th>t0</th>\n",
              "      <th>t1</th>\n",
              "      <th>bt_mean</th>\n",
              "      <th>bt_std</th>\n",
              "      <th>temperature_mean</th>\n",
              "      <th>temperature_std</th>\n",
              "      <th>bx_gse_mean</th>\n",
              "      <th>bx_gse_std</th>\n",
              "      <th>by_gse_mean</th>\n",
              "      <th>by_gse_std</th>\n",
              "      <th>bz_gse_mean</th>\n",
              "      <th>bz_gse_std</th>\n",
              "      <th>speed_mean</th>\n",
              "      <th>speed_std</th>\n",
              "      <th>density_mean</th>\n",
              "      <th>density_std</th>\n",
              "      <th>smoothed_ssn</th>\n",
              "    </tr>\n",
              "    <tr>\n",
              "      <th>period</th>\n",
              "      <th>timedelta</th>\n",
              "      <th></th>\n",
              "      <th></th>\n",
              "      <th></th>\n",
              "      <th></th>\n",
              "      <th></th>\n",
              "      <th></th>\n",
              "      <th></th>\n",
              "      <th></th>\n",
              "      <th></th>\n",
              "      <th></th>\n",
              "      <th></th>\n",
              "      <th></th>\n",
              "      <th></th>\n",
              "      <th></th>\n",
              "      <th></th>\n",
              "      <th></th>\n",
              "      <th></th>\n",
              "    </tr>\n",
              "  </thead>\n",
              "  <tbody>\n",
              "    <tr>\n",
              "      <th rowspan=\"5\" valign=\"top\">train_a</th>\n",
              "      <th>0 days 00:00:00</th>\n",
              "      <td>-7</td>\n",
              "      <td>-10.0</td>\n",
              "      <td>0.499705</td>\n",
              "      <td>2.443614</td>\n",
              "      <td>-0.375267</td>\n",
              "      <td>0.383941</td>\n",
              "      <td>-1.599207</td>\n",
              "      <td>-0.381502</td>\n",
              "      <td>0.419516</td>\n",
              "      <td>0.031658</td>\n",
              "      <td>0.300358</td>\n",
              "      <td>-0.651645</td>\n",
              "      <td>-0.738546</td>\n",
              "      <td>0.862524</td>\n",
              "      <td>-0.775827</td>\n",
              "      <td>-0.205724</td>\n",
              "      <td>0.139444</td>\n",
              "    </tr>\n",
              "    <tr>\n",
              "      <th>0 days 01:00:00</th>\n",
              "      <td>-10</td>\n",
              "      <td>-10.0</td>\n",
              "      <td>0.547177</td>\n",
              "      <td>-0.224580</td>\n",
              "      <td>-0.479430</td>\n",
              "      <td>0.953178</td>\n",
              "      <td>-1.757995</td>\n",
              "      <td>-0.867747</td>\n",
              "      <td>0.179257</td>\n",
              "      <td>-0.272971</td>\n",
              "      <td>0.446103</td>\n",
              "      <td>-0.517913</td>\n",
              "      <td>-0.986904</td>\n",
              "      <td>0.995063</td>\n",
              "      <td>-0.861692</td>\n",
              "      <td>-0.058215</td>\n",
              "      <td>0.139444</td>\n",
              "    </tr>\n",
              "    <tr>\n",
              "      <th>0 days 02:00:00</th>\n",
              "      <td>-10</td>\n",
              "      <td>-6.0</td>\n",
              "      <td>0.739905</td>\n",
              "      <td>-0.770240</td>\n",
              "      <td>-0.574831</td>\n",
              "      <td>-0.192518</td>\n",
              "      <td>-1.912116</td>\n",
              "      <td>-1.114317</td>\n",
              "      <td>0.183266</td>\n",
              "      <td>-0.822786</td>\n",
              "      <td>0.770174</td>\n",
              "      <td>-0.876490</td>\n",
              "      <td>-1.013548</td>\n",
              "      <td>0.554085</td>\n",
              "      <td>-0.846222</td>\n",
              "      <td>-0.220012</td>\n",
              "      <td>0.139444</td>\n",
              "    </tr>\n",
              "    <tr>\n",
              "      <th>0 days 03:00:00</th>\n",
              "      <td>-6</td>\n",
              "      <td>-2.0</td>\n",
              "      <td>0.699098</td>\n",
              "      <td>-0.278783</td>\n",
              "      <td>-0.324709</td>\n",
              "      <td>0.325491</td>\n",
              "      <td>-1.809045</td>\n",
              "      <td>-0.783042</td>\n",
              "      <td>-0.378111</td>\n",
              "      <td>0.341156</td>\n",
              "      <td>0.621194</td>\n",
              "      <td>-0.290211</td>\n",
              "      <td>-0.826469</td>\n",
              "      <td>-0.211185</td>\n",
              "      <td>-0.404306</td>\n",
              "      <td>0.218373</td>\n",
              "      <td>0.139444</td>\n",
              "    </tr>\n",
              "    <tr>\n",
              "      <th>0 days 04:00:00</th>\n",
              "      <td>-2</td>\n",
              "      <td>3.0</td>\n",
              "      <td>0.223933</td>\n",
              "      <td>-0.225168</td>\n",
              "      <td>-0.313432</td>\n",
              "      <td>0.201600</td>\n",
              "      <td>-1.338802</td>\n",
              "      <td>-0.484910</td>\n",
              "      <td>0.072745</td>\n",
              "      <td>1.023019</td>\n",
              "      <td>0.467629</td>\n",
              "      <td>-0.478080</td>\n",
              "      <td>-0.601238</td>\n",
              "      <td>1.016033</td>\n",
              "      <td>-0.371487</td>\n",
              "      <td>0.097253</td>\n",
              "      <td>0.139444</td>\n",
              "    </tr>\n",
              "  </tbody>\n",
              "</table>\n",
              "</div>"
            ],
            "text/plain": [
              "                         t0    t1  ...  density_std  smoothed_ssn\n",
              "period  timedelta                  ...                           \n",
              "train_a 0 days 00:00:00  -7 -10.0  ...    -0.205724      0.139444\n",
              "        0 days 01:00:00 -10 -10.0  ...    -0.058215      0.139444\n",
              "        0 days 02:00:00 -10  -6.0  ...    -0.220012      0.139444\n",
              "        0 days 03:00:00  -6  -2.0  ...     0.218373      0.139444\n",
              "        0 days 04:00:00  -2   3.0  ...     0.097253      0.139444\n",
              "\n",
              "[5 rows x 17 columns]"
            ]
          },
          "metadata": {
            "tags": []
          },
          "execution_count": 16
        }
      ]
    },
    {
      "cell_type": "code",
      "metadata": {
        "id": "1mpbxsMQUp-V"
      },
      "source": [
        "def get_train_test_val(data, test_per_period, val_per_period):\n",
        "    \"\"\"Splits data across periods into train, test, and validation \"\"\"\n",
        "    # assign the last `test_per_period` rows from each period to test\n",
        "    test = data.groupby(\"period\").tail(test_per_period)\n",
        "    interim = data[~data.index.isin(test.index)]\n",
        "    # assign the last `val_per_period` from the remaining rows to validation\n",
        "    val = interim.groupby(\"period\").tail(val_per_period)\n",
        "    # the remaining rows are assigned to train\n",
        "    train = interim[~interim.index.isin(val.index)]\n",
        "    return train, test, val\n",
        "\n",
        "train, test, val = get_train_test_val(data, test_per_period=6000, val_per_period=3000)"
      ],
      "execution_count": 17,
      "outputs": []
    },
    {
      "cell_type": "code",
      "metadata": {
        "colab": {
          "base_uri": "https://localhost:8080/"
        },
        "id": "kwvN-AnEUs22",
        "outputId": "69ca334c-be1b-4241-c327-149cb8d94033"
      },
      "source": [
        "from tensorflow.keras import preprocessing\n",
        "\n",
        "data_config = {\n",
        "    \"timesteps\": 32,\n",
        "    \"batch_size\": 32,\n",
        "}\n",
        "\n",
        "def timeseries_dataset_from_df(df, batch_size):\n",
        "    dataset = None\n",
        "    timesteps = data_config[\"timesteps\"]\n",
        "    \n",
        "    # iterate through the periods\n",
        "    for _, period_df in df.groupby(\"period\"):\n",
        "        # realign features and lables so that the first sequence of 32 is aligned with the 33rd target\n",
        "        inputs = period_df[XCOLS][:-timesteps]\n",
        "        outputs = period_df[YCOLS][timesteps:]\n",
        "        \n",
        "        period_ds = preprocessing.timeseries_dataset_from_array(\n",
        "            inputs,\n",
        "            outputs,\n",
        "            timesteps,\n",
        "            batch_size=batch_size\n",
        "        )\n",
        "        \n",
        "        if dataset is None:\n",
        "            dataset = period_ds\n",
        "        else:\n",
        "            dataset = dataset.concatenate(period_ds)\n",
        "            \n",
        "    return dataset\n",
        "\n",
        "train_ds = timeseries_dataset_from_df(train, data_config[\"batch_size\"])\n",
        "val_ds = timeseries_dataset_from_df(val, data_config[\"batch_size\"])\n",
        "\n",
        "print(f\"Number of train batches: {len(train_ds)}\")\n",
        "print(f\"Number of validation batches: {len(val_ds)}\")"
      ],
      "execution_count": 19,
      "outputs": [
        {
          "output_type": "stream",
          "text": [
            "Number of train batches: 3523\n",
            "Number of validation batches: 276\n"
          ],
          "name": "stdout"
        }
      ]
    },
    {
      "cell_type": "code",
      "metadata": {
        "colab": {
          "base_uri": "https://localhost:8080/"
        },
        "id": "HrCYz81EUwKV",
        "outputId": "11333158-e1c4-4d06-cd56-47da5559d980"
      },
      "source": [
        "from tensorflow.keras.layers import Dense, LSTM\n",
        "from tensorflow.keras.models import Sequential\n",
        "\n",
        "# define our model\n",
        "model_config = {\n",
        "    \"n_epochs\": 20,\n",
        "    \"n_neurons\": 512,\n",
        "    \"dropout\": 0.4,\n",
        "    \"stateful\": False\n",
        "}\n",
        "\n",
        "model = Sequential()\n",
        "model.add(\n",
        "    LSTM(\n",
        "        model_config[\"n_neurons\"],\n",
        "        # batch input shape usually set to (`batch_size`, `sequence_length`, `n_features`)\n",
        "        # setting the batch size to None allows for variable length batches\n",
        "        batch_input_shape=(None, data_config[\"timesteps\"], len(XCOLS)),\n",
        "        stateful=model_config[\"stateful\"],\n",
        "        dropout=model_config[\"dropout\"],\n",
        "    )\n",
        ")\n",
        "model.add(Dense(len(YCOLS)))\n",
        "model.compile(\n",
        "    loss=\"mean_squared_error\",\n",
        "    optimizer=\"adam\",)\n",
        "\n",
        "model.summary()"
      ],
      "execution_count": 20,
      "outputs": [
        {
          "output_type": "stream",
          "text": [
            "Model: \"sequential\"\n",
            "_________________________________________________________________\n",
            "Layer (type)                 Output Shape              Param #   \n",
            "=================================================================\n",
            "lstm (LSTM)                  (None, 512)               1081344   \n",
            "_________________________________________________________________\n",
            "dense (Dense)                (None, 2)                 1026      \n",
            "=================================================================\n",
            "Total params: 1,082,370\n",
            "Trainable params: 1,082,370\n",
            "Non-trainable params: 0\n",
            "_________________________________________________________________\n"
          ],
          "name": "stdout"
        }
      ]
    },
    {
      "cell_type": "code",
      "metadata": {
        "colab": {
          "base_uri": "https://localhost:8080/"
        },
        "id": "x35S-nk3Uzjo",
        "outputId": "e46483c6-9f4e-42bd-d654-55fcd00f7ce1"
      },
      "source": [
        "history = model.fit(\n",
        "    train_ds,\n",
        "    batch_size=data_config[\"batch_size\"],\n",
        "    epochs=model_config[\"n_epochs\"],\n",
        "    verbose=1,\n",
        "    shuffle=False,\n",
        "    validation_data=val_ds\n",
        ")"
      ],
      "execution_count": 21,
      "outputs": [
        {
          "output_type": "stream",
          "text": [
            "Epoch 1/20\n",
            "3523/3523 [==============================] - 39s 9ms/step - loss: 434.1621 - val_loss: 607.5424\n",
            "Epoch 2/20\n",
            "3523/3523 [==============================] - 32s 9ms/step - loss: 425.1254 - val_loss: 471.6572\n",
            "Epoch 3/20\n",
            "3523/3523 [==============================] - 31s 9ms/step - loss: 337.6516 - val_loss: 377.7849\n",
            "Epoch 4/20\n",
            "3523/3523 [==============================] - 31s 9ms/step - loss: 278.8641 - val_loss: 321.0105\n",
            "Epoch 5/20\n",
            "3523/3523 [==============================] - 32s 9ms/step - loss: 239.6837 - val_loss: 278.6241\n",
            "Epoch 6/20\n",
            "3523/3523 [==============================] - 32s 9ms/step - loss: 221.6318 - val_loss: 245.7606\n",
            "Epoch 7/20\n",
            "3523/3523 [==============================] - 32s 9ms/step - loss: 211.2616 - val_loss: 222.8792\n",
            "Epoch 8/20\n",
            "3523/3523 [==============================] - 32s 9ms/step - loss: 198.2780 - val_loss: 216.0772\n",
            "Epoch 9/20\n",
            "3523/3523 [==============================] - 32s 9ms/step - loss: 191.7375 - val_loss: 210.7024\n",
            "Epoch 10/20\n",
            "3523/3523 [==============================] - 32s 9ms/step - loss: 188.0343 - val_loss: 206.7679\n",
            "Epoch 11/20\n",
            "3523/3523 [==============================] - 32s 9ms/step - loss: 182.2540 - val_loss: 209.1393\n",
            "Epoch 12/20\n",
            "3523/3523 [==============================] - 32s 9ms/step - loss: 175.1311 - val_loss: 208.0991\n",
            "Epoch 13/20\n",
            "3523/3523 [==============================] - 32s 9ms/step - loss: 171.1553 - val_loss: 192.2095\n",
            "Epoch 14/20\n",
            "3523/3523 [==============================] - 32s 9ms/step - loss: 163.5800 - val_loss: 221.6195\n",
            "Epoch 15/20\n",
            "3523/3523 [==============================] - 32s 9ms/step - loss: 158.7427 - val_loss: 227.7048\n",
            "Epoch 16/20\n",
            "3523/3523 [==============================] - 32s 9ms/step - loss: 151.6773 - val_loss: 212.1917\n",
            "Epoch 17/20\n",
            "3523/3523 [==============================] - 32s 9ms/step - loss: 147.1116 - val_loss: 214.7271\n",
            "Epoch 18/20\n",
            "3523/3523 [==============================] - 32s 9ms/step - loss: 145.5703 - val_loss: 232.8566\n",
            "Epoch 19/20\n",
            "3523/3523 [==============================] - 32s 9ms/step - loss: 142.5391 - val_loss: 242.1620\n",
            "Epoch 20/20\n",
            "3523/3523 [==============================] - 31s 9ms/step - loss: 135.4551 - val_loss: 210.9937\n"
          ],
          "name": "stdout"
        }
      ]
    },
    {
      "cell_type": "markdown",
      "metadata": {
        "id": "h0Eu2T_3X1yp"
      },
      "source": [
        "# Evaluation"
      ]
    },
    {
      "cell_type": "code",
      "metadata": {
        "colab": {
          "base_uri": "https://localhost:8080/",
          "height": 265
        },
        "id": "rxAU2_hCU1lq",
        "outputId": "6dfa5952-43db-4fb7-b1a9-672e32c89900"
      },
      "source": [
        "for name, values in history.history.items():\n",
        "  plt.plot(values, label=name)\n",
        "plt.legend()\n",
        "plt.show()"
      ],
      "execution_count": 26,
      "outputs": [
        {
          "output_type": "display_data",
          "data": {
            "image/png": "[encoded data removed]",
            "text/plain": [
              "<Figure size 432x288 with 1 Axes>"
            ]
          },
          "metadata": {
            "tags": [],
            "needs_background": "light"
          }
        }
      ]
    },
    {
      "cell_type": "code",
      "metadata": {
        "id": "qVwx7Zf3XtpH"
      },
      "source": [
        "test_ds = timeseries_dataset_from_df(test, data_config[\"batch_size\"])"
      ],
      "execution_count": 27,
      "outputs": []
    },
    {
      "cell_type": "code",
      "metadata": {
        "colab": {
          "base_uri": "https://localhost:8080/"
        },
        "id": "3USeOagmYI8w",
        "outputId": "5962f616-d68b-453e-e7ee-33f318739789"
      },
      "source": [
        "mse = model.evaluate(test_ds)\n",
        "print(f\"Test RMSE: {mse ** .5 :.2f}\")"
      ],
      "execution_count": 28,
      "outputs": [
        {
          "output_type": "stream",
          "text": [
            "558/558 [==============================] - 4s 7ms/step - loss: 189.9985\n",
            "Test RMSE: 13.78\n"
          ],
          "name": "stdout"
        }
      ]
    },
    {
      "cell_type": "markdown",
      "metadata": {
        "id": "ODzVH4vfZRHD"
      },
      "source": [
        "## Saving the Model"
      ]
    },
    {
      "cell_type": "code",
      "metadata": {
        "id": "OBCT2_lzYRe7"
      },
      "source": [
        "import json\n",
        "import pickle\n",
        "\n",
        "# model.save(\"model.h5\")\n",
        "\n",
        "with open(\"scaler.pck\", \"wb\") as f:\n",
        "  pickle.dump(scaler, f)\n",
        "\n",
        "# data_config[\"solar_wind_subset\"] = SOLAR_WIND_FEATURES\n",
        "# print(data_config)\n",
        "# with open(\"config.json\", \"w\") as f:\n",
        "#     json.dump(data_config, f)"
      ],
      "execution_count": 15,
      "outputs": []
    },
    {
      "cell_type": "markdown",
      "metadata": {
        "id": "az0UElDidOPc"
      },
      "source": [
        "## Prepare Submission"
      ]
    },
    {
      "cell_type": "code",
      "metadata": {
        "id": "_MSAt4nNdND6"
      },
      "source": [
        "import json\n",
        "import pickle\n",
        "from typing import Tuple\n",
        "\n",
        "import pandas as pd\n",
        "from tensorflow.keras.models import load_model\n",
        "\n",
        "# load in serialized model, config, and scaler\n",
        "model = load_model(\"model.h5\")\n",
        "\n",
        "with open(\"config.json\", \"r\") as f:\n",
        "    CONFIG = json.load(f)\n",
        "    \n",
        "with open(\"scaler.pck\", \"rb\") as f:\n",
        "    scaler = pickle.load(f)\n",
        "    \n",
        "# Set global variables\n",
        "TIMESTEPS = CONFIG[\"timesteps\"]\n",
        "SOLAR_WIND_FEATURES = [\n",
        "    \"bt\",\n",
        "    \"temperature\",\n",
        "    \"bx_gse\",\n",
        "    \"by_gse\",\n",
        "    \"bz_gse\",\n",
        "    \"speed\",\n",
        "    \"density\",\n",
        "]\n",
        "\n",
        "XCOLS = (\n",
        "    [col + \"_mean\" for col in SOLAR_WIND_FEATURES]\n",
        "    + [col + \"_std\" for col in SOLAR_WIND_FEATURES]\n",
        "    + [\"smoothed_ssn\"]\n",
        ")\n",
        "\n",
        "# Define functions for preprocessing\n",
        "def impute_features(feature_df):\n",
        "    \"\"\"Imputes data using the following methods:\n",
        "    - `smoothed_ssn`: forward fill\n",
        "    - `solar_wind`: interpolation\n",
        "    \"\"\"\n",
        "    # forward fill sunspot data for the rest of the month\n",
        "    feature_df.smoothed_ssn = feature_df.smoothed_ssn.fillna(method=\"ffill\")\n",
        "    # interpolate between missing solar wind values\n",
        "    feature_df = feature_df.interpolate()\n",
        "    return feature_df\n",
        "\n",
        "\n",
        "def aggregate_hourly(feature_df, aggs=[\"mean\", \"std\"]):\n",
        "    \"\"\"Aggregates features to the floor of each hour using mean and standard deviation.\n",
        "    e.g. All values from \"11:00:00\" to \"11:59:00\" will be aggregated to \"11:00:00\".\n",
        "    \"\"\"\n",
        "    # group by the floor of each hour use timedelta index\n",
        "    agged = feature_df.groupby(\n",
        "        [\"period\", feature_df.index.get_level_values(0).floor(\"H\")]\n",
        "    ).agg(aggs)\n",
        "    # flatten hierachical column index\n",
        "    agged.columns = [\"_\".join(x) for x in agged.columns]\n",
        "    return agged\n",
        "\n",
        "\n",
        "def preprocess_features(solar_wind, sunspots, scaler=None, subset=None):\n",
        "    \"\"\"\n",
        "    Preprocessing steps:\n",
        "        - Subset the data\n",
        "        - Aggregate hourly\n",
        "        - Join solar wind and sunspot data\n",
        "        - Scale using standard scaler\n",
        "        - Impute missing values\n",
        "    \"\"\"\n",
        "    # select features we want to use\n",
        "    if subset:\n",
        "        solar_wind = solar_wind[subset]\n",
        "\n",
        "    # aggregate solar wind data and join with sunspots\n",
        "    hourly_features = aggregate_hourly(solar_wind).join(sunspots)\n",
        "\n",
        "    # subtract mean and divide by standard deviation\n",
        "    if scaler is None:\n",
        "        scaler = StandardScaler()\n",
        "        scaler.fit(hourly_features)\n",
        "\n",
        "    normalized = pd.DataFrame(\n",
        "        scaler.transform(hourly_features),\n",
        "        index=hourly_features.index,\n",
        "        columns=hourly_features.columns,\n",
        "    )\n",
        "\n",
        "    # impute missing values\n",
        "    imputed = impute_features(normalized)\n",
        "\n",
        "    # we want to return the scaler object as well to use later during prediction\n",
        "    return imputed, scaler\n",
        "\n",
        "\n",
        "# THIS MUST BE DEFINED FOR YOUR SUBMISSION TO RUN\n",
        "def predict_dst(\n",
        "    solar_wind_7d: pd.DataFrame,\n",
        "    satellite_positions_7d: pd.DataFrame,\n",
        "    latest_sunspot_number: float,\n",
        ") -> Tuple[float, float]:\n",
        "    \"\"\"\n",
        "    Take all of the data up until time t-1, and then make predictions for\n",
        "    times t and t+1.\n",
        "    Parameters\n",
        "    ----------\n",
        "    solar_wind_7d: pd.DataFrame\n",
        "        The last 7 days of satellite data up until (t - 1) minutes [exclusive of t]\n",
        "    satellite_positions_7d: pd.DataFrame\n",
        "        The last 7 days of satellite position data up until the present time [inclusive of t]\n",
        "    latest_sunspot_number: float\n",
        "        The latest monthly sunspot number (SSN) to be available\n",
        "    Returns\n",
        "    -------\n",
        "    predictions : Tuple[float, float]\n",
        "        A tuple of two predictions, for (t and t + 1 hour) respectively; these should\n",
        "        be between -2,000 and 500.\n",
        "    \"\"\"\n",
        "    # Re-format data to fit into our pipeline\n",
        "    sunspots = pd.DataFrame(index=solar_wind_7d.index, columns=[\"smoothed_ssn\"])\n",
        "    sunspots[\"smoothed_ssn\"] = latest_sunspot_number\n",
        "    \n",
        "    # Process our features and grab last 32 (timesteps) hours\n",
        "    features, s = preprocess_features(\n",
        "        solar_wind_7d, sunspots, scaler=scaler, subset=SOLAR_WIND_FEATURES\n",
        "    )\n",
        "    model_input = features[-TIMESTEPS:][XCOLS].values.reshape(\n",
        "        (1, TIMESTEPS, features.shape[1])\n",
        "    )\n",
        "    \n",
        "    # Make a prediction\n",
        "    prediction_at_t0, prediction_at_t1 = model.predict(model_input)[0]\n",
        "\n",
        "    # Optional check for unexpected values\n",
        "    if not np.isfinite(prediction_at_t0):\n",
        "        prediction_at_t0 = -12\n",
        "    if not np.isfinite(prediction_at_t1):\n",
        "        prediction_at_t1 = -12\n",
        "\n",
        "    return prediction_at_t0, prediction_at_t1"
      ],
      "execution_count": 38,
      "outputs": []
    },
    {
      "cell_type": "code",
      "metadata": {
        "id": "6B5YP1_GdQBu"
      },
      "source": [
        ""
      ],
      "execution_count": null,
      "outputs": []
    },
    {
      "cell_type": "code",
      "metadata": {
        "colab": {
          "base_uri": "https://localhost:8080/"
        },
        "id": "IIdfyD1RoyAm",
        "outputId": "c6a3435d-1483-4ed1-dcaf-59e02d1f10d8"
      },
      "source": [
        "scaler.n_features_in_"
      ],
      "execution_count": 13,
      "outputs": [
        {
          "output_type": "execute_result",
          "data": {
            "text/plain": [
              "15"
            ]
          },
          "metadata": {
            "tags": []
          },
          "execution_count": 13
        }
      ]
    },
    {
      "cell_type": "code",
      "metadata": {
        "id": "rZYHAuVVozCk"
      },
      "source": [
        ""
      ],
      "execution_count": null,
      "outputs": []
    }
  ]
}